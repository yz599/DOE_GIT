{
 "cells": [
  {
   "cell_type": "code",
   "execution_count": 59,
   "metadata": {},
   "outputs": [],
   "source": [
    "import pandas as pd\n",
    "import matplotlib.pyplot as plt\n",
    "import numpy as np\n",
    "from pandas.plotting import scatter_matrix\n",
    "%matplotlib inline"
   ]
  },
  {
   "cell_type": "code",
   "execution_count": 60,
   "metadata": {},
   "outputs": [],
   "source": [
    "df=pd.read_csv('hvac.csv',index_col='Date',parse_dates=True)"
   ]
  },
  {
   "cell_type": "code",
   "execution_count": 61,
   "metadata": {
    "scrolled": true
   },
   "outputs": [
    {
     "data": {
      "text/html": [
       "<div>\n",
       "<style scoped>\n",
       "    .dataframe tbody tr th:only-of-type {\n",
       "        vertical-align: middle;\n",
       "    }\n",
       "\n",
       "    .dataframe tbody tr th {\n",
       "        vertical-align: top;\n",
       "    }\n",
       "\n",
       "    .dataframe thead th {\n",
       "        text-align: right;\n",
       "    }\n",
       "</style>\n",
       "<table border=\"1\" class=\"dataframe\">\n",
       "  <thead>\n",
       "    <tr style=\"text-align: right;\">\n",
       "      <th></th>\n",
       "      <th>mass</th>\n",
       "      <th>tem</th>\n",
       "      <th>out</th>\n",
       "      <th>oc</th>\n",
       "      <th>n1</th>\n",
       "      <th>s</th>\n",
       "      <th>sw</th>\n",
       "      <th>e</th>\n",
       "      <th>n2</th>\n",
       "      <th>w</th>\n",
       "      <th>ww</th>\n",
       "      <th>floor</th>\n",
       "      <th>ceiling</th>\n",
       "    </tr>\n",
       "    <tr>\n",
       "      <th>Date</th>\n",
       "      <th></th>\n",
       "      <th></th>\n",
       "      <th></th>\n",
       "      <th></th>\n",
       "      <th></th>\n",
       "      <th></th>\n",
       "      <th></th>\n",
       "      <th></th>\n",
       "      <th></th>\n",
       "      <th></th>\n",
       "      <th></th>\n",
       "      <th></th>\n",
       "      <th></th>\n",
       "    </tr>\n",
       "  </thead>\n",
       "  <tbody>\n",
       "    <tr>\n",
       "      <th>01/01  01:00:00</th>\n",
       "      <td>0.011292</td>\n",
       "      <td>15.6</td>\n",
       "      <td>3.100000</td>\n",
       "      <td>0.0</td>\n",
       "      <td>14.969495</td>\n",
       "      <td>14.516262</td>\n",
       "      <td>10.667356</td>\n",
       "      <td>15.032881</td>\n",
       "      <td>15.101662</td>\n",
       "      <td>14.494765</td>\n",
       "      <td>10.692775</td>\n",
       "      <td>15.072239</td>\n",
       "      <td>14.932036</td>\n",
       "    </tr>\n",
       "    <tr>\n",
       "      <th>01/01  02:00:00</th>\n",
       "      <td>0.013059</td>\n",
       "      <td>15.6</td>\n",
       "      <td>-1.633333</td>\n",
       "      <td>0.0</td>\n",
       "      <td>14.845857</td>\n",
       "      <td>14.264236</td>\n",
       "      <td>9.572860</td>\n",
       "      <td>14.927319</td>\n",
       "      <td>15.003793</td>\n",
       "      <td>14.238915</td>\n",
       "      <td>9.637330</td>\n",
       "      <td>14.994772</td>\n",
       "      <td>14.838414</td>\n",
       "    </tr>\n",
       "    <tr>\n",
       "      <th>01/01  03:00:00</th>\n",
       "      <td>0.013986</td>\n",
       "      <td>15.6</td>\n",
       "      <td>-2.033333</td>\n",
       "      <td>0.0</td>\n",
       "      <td>14.780562</td>\n",
       "      <td>14.032646</td>\n",
       "      <td>9.437750</td>\n",
       "      <td>14.868444</td>\n",
       "      <td>14.953579</td>\n",
       "      <td>14.010805</td>\n",
       "      <td>9.503474</td>\n",
       "      <td>14.961904</td>\n",
       "      <td>14.798600</td>\n",
       "    </tr>\n",
       "    <tr>\n",
       "      <th>01/01  04:00:00</th>\n",
       "      <td>0.015091</td>\n",
       "      <td>15.6</td>\n",
       "      <td>-2.433333</td>\n",
       "      <td>0.0</td>\n",
       "      <td>14.736425</td>\n",
       "      <td>13.869836</td>\n",
       "      <td>9.268384</td>\n",
       "      <td>14.828190</td>\n",
       "      <td>14.917997</td>\n",
       "      <td>13.848420</td>\n",
       "      <td>9.336981</td>\n",
       "      <td>14.932588</td>\n",
       "      <td>14.763572</td>\n",
       "    </tr>\n",
       "    <tr>\n",
       "      <th>01/01  05:00:00</th>\n",
       "      <td>0.016359</td>\n",
       "      <td>15.6</td>\n",
       "      <td>-2.775000</td>\n",
       "      <td>0.0</td>\n",
       "      <td>14.701547</td>\n",
       "      <td>13.752946</td>\n",
       "      <td>9.132531</td>\n",
       "      <td>14.795978</td>\n",
       "      <td>14.889475</td>\n",
       "      <td>13.729092</td>\n",
       "      <td>9.209504</td>\n",
       "      <td>14.906629</td>\n",
       "      <td>14.732734</td>\n",
       "    </tr>\n",
       "  </tbody>\n",
       "</table>\n",
       "</div>"
      ],
      "text/plain": [
       "                      mass   tem       out   oc         n1          s  \\\n",
       "Date                                                                    \n",
       " 01/01  01:00:00  0.011292  15.6  3.100000  0.0  14.969495  14.516262   \n",
       " 01/01  02:00:00  0.013059  15.6 -1.633333  0.0  14.845857  14.264236   \n",
       " 01/01  03:00:00  0.013986  15.6 -2.033333  0.0  14.780562  14.032646   \n",
       " 01/01  04:00:00  0.015091  15.6 -2.433333  0.0  14.736425  13.869836   \n",
       " 01/01  05:00:00  0.016359  15.6 -2.775000  0.0  14.701547  13.752946   \n",
       "\n",
       "                         sw          e         n2          w         ww  \\\n",
       "Date                                                                      \n",
       " 01/01  01:00:00  10.667356  15.032881  15.101662  14.494765  10.692775   \n",
       " 01/01  02:00:00   9.572860  14.927319  15.003793  14.238915   9.637330   \n",
       " 01/01  03:00:00   9.437750  14.868444  14.953579  14.010805   9.503474   \n",
       " 01/01  04:00:00   9.268384  14.828190  14.917997  13.848420   9.336981   \n",
       " 01/01  05:00:00   9.132531  14.795978  14.889475  13.729092   9.209504   \n",
       "\n",
       "                      floor    ceiling  \n",
       "Date                                    \n",
       " 01/01  01:00:00  15.072239  14.932036  \n",
       " 01/01  02:00:00  14.994772  14.838414  \n",
       " 01/01  03:00:00  14.961904  14.798600  \n",
       " 01/01  04:00:00  14.932588  14.763572  \n",
       " 01/01  05:00:00  14.906629  14.732734  "
      ]
     },
     "execution_count": 61,
     "metadata": {},
     "output_type": "execute_result"
    }
   ],
   "source": [
    "df.head()"
   ]
  },
  {
   "cell_type": "markdown",
   "metadata": {},
   "source": [
    "### 1. Look at the correlation of the variables"
   ]
  },
  {
   "cell_type": "code",
   "execution_count": 63,
   "metadata": {},
   "outputs": [],
   "source": [
    "df_clear=df[(df['oc']!=0)&(df['mass']>0)]"
   ]
  },
  {
   "cell_type": "code",
   "execution_count": 64,
   "metadata": {},
   "outputs": [
    {
     "data": {
      "text/plain": [
       "Index(['mass', 'tem', 'out', 'oc', 'n1', 's', 'sw', 'e', 'n2', 'w', 'ww',\n",
       "       'floor', 'ceiling'],\n",
       "      dtype='object')"
      ]
     },
     "execution_count": 64,
     "metadata": {},
     "output_type": "execute_result"
    }
   ],
   "source": [
    "df.columns"
   ]
  },
  {
   "cell_type": "code",
   "execution_count": 65,
   "metadata": {},
   "outputs": [],
   "source": [
    "cols=['tem' ,'n1', 's', 'sw', 'e',  'w', 'ww',\n",
    "       'floor', 'ceiling']"
   ]
  },
  {
   "cell_type": "code",
   "execution_count": 66,
   "metadata": {},
   "outputs": [],
   "source": [
    "df_walls=df_clear[cols]"
   ]
  },
  {
   "cell_type": "code",
   "execution_count": 67,
   "metadata": {},
   "outputs": [
    {
     "data": {
      "text/html": [
       "<div>\n",
       "<style scoped>\n",
       "    .dataframe tbody tr th:only-of-type {\n",
       "        vertical-align: middle;\n",
       "    }\n",
       "\n",
       "    .dataframe tbody tr th {\n",
       "        vertical-align: top;\n",
       "    }\n",
       "\n",
       "    .dataframe thead th {\n",
       "        text-align: right;\n",
       "    }\n",
       "</style>\n",
       "<table border=\"1\" class=\"dataframe\">\n",
       "  <thead>\n",
       "    <tr style=\"text-align: right;\">\n",
       "      <th></th>\n",
       "      <th>tem</th>\n",
       "      <th>n1</th>\n",
       "      <th>s</th>\n",
       "      <th>sw</th>\n",
       "      <th>e</th>\n",
       "      <th>w</th>\n",
       "      <th>ww</th>\n",
       "      <th>floor</th>\n",
       "      <th>ceiling</th>\n",
       "    </tr>\n",
       "    <tr>\n",
       "      <th>Date</th>\n",
       "      <th></th>\n",
       "      <th></th>\n",
       "      <th></th>\n",
       "      <th></th>\n",
       "      <th></th>\n",
       "      <th></th>\n",
       "      <th></th>\n",
       "      <th></th>\n",
       "      <th></th>\n",
       "    </tr>\n",
       "  </thead>\n",
       "  <tbody>\n",
       "    <tr>\n",
       "      <th>01/02  10:00:00</th>\n",
       "      <td>21.000000</td>\n",
       "      <td>19.960901</td>\n",
       "      <td>19.605104</td>\n",
       "      <td>23.062849</td>\n",
       "      <td>20.503912</td>\n",
       "      <td>20.742079</td>\n",
       "      <td>16.771438</td>\n",
       "      <td>19.166222</td>\n",
       "      <td>19.307239</td>\n",
       "    </tr>\n",
       "    <tr>\n",
       "      <th>01/02  11:00:00</th>\n",
       "      <td>21.000000</td>\n",
       "      <td>20.104403</td>\n",
       "      <td>20.451516</td>\n",
       "      <td>19.081749</td>\n",
       "      <td>20.566624</td>\n",
       "      <td>20.261398</td>\n",
       "      <td>17.046185</td>\n",
       "      <td>18.971916</td>\n",
       "      <td>19.417500</td>\n",
       "    </tr>\n",
       "    <tr>\n",
       "      <th>01/02  12:00:00</th>\n",
       "      <td>21.000000</td>\n",
       "      <td>20.041296</td>\n",
       "      <td>20.518228</td>\n",
       "      <td>17.433381</td>\n",
       "      <td>20.244332</td>\n",
       "      <td>19.787446</td>\n",
       "      <td>16.837487</td>\n",
       "      <td>18.821834</td>\n",
       "      <td>19.339921</td>\n",
       "    </tr>\n",
       "    <tr>\n",
       "      <th>01/02  14:00:00</th>\n",
       "      <td>21.000000</td>\n",
       "      <td>20.679584</td>\n",
       "      <td>20.510915</td>\n",
       "      <td>22.866741</td>\n",
       "      <td>20.923526</td>\n",
       "      <td>20.056847</td>\n",
       "      <td>18.086031</td>\n",
       "      <td>20.149934</td>\n",
       "      <td>19.966730</td>\n",
       "    </tr>\n",
       "    <tr>\n",
       "      <th>01/02  15:00:00</th>\n",
       "      <td>21.072086</td>\n",
       "      <td>21.474313</td>\n",
       "      <td>21.245253</td>\n",
       "      <td>21.926074</td>\n",
       "      <td>21.660385</td>\n",
       "      <td>20.646606</td>\n",
       "      <td>19.820302</td>\n",
       "      <td>20.275573</td>\n",
       "      <td>20.254603</td>\n",
       "    </tr>\n",
       "  </tbody>\n",
       "</table>\n",
       "</div>"
      ],
      "text/plain": [
       "                        tem         n1          s         sw          e  \\\n",
       "Date                                                                      \n",
       " 01/02  10:00:00  21.000000  19.960901  19.605104  23.062849  20.503912   \n",
       " 01/02  11:00:00  21.000000  20.104403  20.451516  19.081749  20.566624   \n",
       " 01/02  12:00:00  21.000000  20.041296  20.518228  17.433381  20.244332   \n",
       " 01/02  14:00:00  21.000000  20.679584  20.510915  22.866741  20.923526   \n",
       " 01/02  15:00:00  21.072086  21.474313  21.245253  21.926074  21.660385   \n",
       "\n",
       "                          w         ww      floor    ceiling  \n",
       "Date                                                          \n",
       " 01/02  10:00:00  20.742079  16.771438  19.166222  19.307239  \n",
       " 01/02  11:00:00  20.261398  17.046185  18.971916  19.417500  \n",
       " 01/02  12:00:00  19.787446  16.837487  18.821834  19.339921  \n",
       " 01/02  14:00:00  20.056847  18.086031  20.149934  19.966730  \n",
       " 01/02  15:00:00  20.646606  19.820302  20.275573  20.254603  "
      ]
     },
     "execution_count": 67,
     "metadata": {},
     "output_type": "execute_result"
    }
   ],
   "source": [
    "df_walls.head()"
   ]
  },
  {
   "cell_type": "code",
   "execution_count": 68,
   "metadata": {
    "scrolled": true
   },
   "outputs": [
    {
     "data": {
      "text/plain": [
       "array([[<AxesSubplot:xlabel='tem', ylabel='tem'>,\n",
       "        <AxesSubplot:xlabel='n1', ylabel='tem'>,\n",
       "        <AxesSubplot:xlabel='s', ylabel='tem'>,\n",
       "        <AxesSubplot:xlabel='sw', ylabel='tem'>,\n",
       "        <AxesSubplot:xlabel='e', ylabel='tem'>,\n",
       "        <AxesSubplot:xlabel='w', ylabel='tem'>,\n",
       "        <AxesSubplot:xlabel='ww', ylabel='tem'>,\n",
       "        <AxesSubplot:xlabel='floor', ylabel='tem'>,\n",
       "        <AxesSubplot:xlabel='ceiling', ylabel='tem'>],\n",
       "       [<AxesSubplot:xlabel='tem', ylabel='n1'>,\n",
       "        <AxesSubplot:xlabel='n1', ylabel='n1'>,\n",
       "        <AxesSubplot:xlabel='s', ylabel='n1'>,\n",
       "        <AxesSubplot:xlabel='sw', ylabel='n1'>,\n",
       "        <AxesSubplot:xlabel='e', ylabel='n1'>,\n",
       "        <AxesSubplot:xlabel='w', ylabel='n1'>,\n",
       "        <AxesSubplot:xlabel='ww', ylabel='n1'>,\n",
       "        <AxesSubplot:xlabel='floor', ylabel='n1'>,\n",
       "        <AxesSubplot:xlabel='ceiling', ylabel='n1'>],\n",
       "       [<AxesSubplot:xlabel='tem', ylabel='s'>,\n",
       "        <AxesSubplot:xlabel='n1', ylabel='s'>,\n",
       "        <AxesSubplot:xlabel='s', ylabel='s'>,\n",
       "        <AxesSubplot:xlabel='sw', ylabel='s'>,\n",
       "        <AxesSubplot:xlabel='e', ylabel='s'>,\n",
       "        <AxesSubplot:xlabel='w', ylabel='s'>,\n",
       "        <AxesSubplot:xlabel='ww', ylabel='s'>,\n",
       "        <AxesSubplot:xlabel='floor', ylabel='s'>,\n",
       "        <AxesSubplot:xlabel='ceiling', ylabel='s'>],\n",
       "       [<AxesSubplot:xlabel='tem', ylabel='sw'>,\n",
       "        <AxesSubplot:xlabel='n1', ylabel='sw'>,\n",
       "        <AxesSubplot:xlabel='s', ylabel='sw'>,\n",
       "        <AxesSubplot:xlabel='sw', ylabel='sw'>,\n",
       "        <AxesSubplot:xlabel='e', ylabel='sw'>,\n",
       "        <AxesSubplot:xlabel='w', ylabel='sw'>,\n",
       "        <AxesSubplot:xlabel='ww', ylabel='sw'>,\n",
       "        <AxesSubplot:xlabel='floor', ylabel='sw'>,\n",
       "        <AxesSubplot:xlabel='ceiling', ylabel='sw'>],\n",
       "       [<AxesSubplot:xlabel='tem', ylabel='e'>,\n",
       "        <AxesSubplot:xlabel='n1', ylabel='e'>,\n",
       "        <AxesSubplot:xlabel='s', ylabel='e'>,\n",
       "        <AxesSubplot:xlabel='sw', ylabel='e'>,\n",
       "        <AxesSubplot:xlabel='e', ylabel='e'>,\n",
       "        <AxesSubplot:xlabel='w', ylabel='e'>,\n",
       "        <AxesSubplot:xlabel='ww', ylabel='e'>,\n",
       "        <AxesSubplot:xlabel='floor', ylabel='e'>,\n",
       "        <AxesSubplot:xlabel='ceiling', ylabel='e'>],\n",
       "       [<AxesSubplot:xlabel='tem', ylabel='w'>,\n",
       "        <AxesSubplot:xlabel='n1', ylabel='w'>,\n",
       "        <AxesSubplot:xlabel='s', ylabel='w'>,\n",
       "        <AxesSubplot:xlabel='sw', ylabel='w'>,\n",
       "        <AxesSubplot:xlabel='e', ylabel='w'>,\n",
       "        <AxesSubplot:xlabel='w', ylabel='w'>,\n",
       "        <AxesSubplot:xlabel='ww', ylabel='w'>,\n",
       "        <AxesSubplot:xlabel='floor', ylabel='w'>,\n",
       "        <AxesSubplot:xlabel='ceiling', ylabel='w'>],\n",
       "       [<AxesSubplot:xlabel='tem', ylabel='ww'>,\n",
       "        <AxesSubplot:xlabel='n1', ylabel='ww'>,\n",
       "        <AxesSubplot:xlabel='s', ylabel='ww'>,\n",
       "        <AxesSubplot:xlabel='sw', ylabel='ww'>,\n",
       "        <AxesSubplot:xlabel='e', ylabel='ww'>,\n",
       "        <AxesSubplot:xlabel='w', ylabel='ww'>,\n",
       "        <AxesSubplot:xlabel='ww', ylabel='ww'>,\n",
       "        <AxesSubplot:xlabel='floor', ylabel='ww'>,\n",
       "        <AxesSubplot:xlabel='ceiling', ylabel='ww'>],\n",
       "       [<AxesSubplot:xlabel='tem', ylabel='floor'>,\n",
       "        <AxesSubplot:xlabel='n1', ylabel='floor'>,\n",
       "        <AxesSubplot:xlabel='s', ylabel='floor'>,\n",
       "        <AxesSubplot:xlabel='sw', ylabel='floor'>,\n",
       "        <AxesSubplot:xlabel='e', ylabel='floor'>,\n",
       "        <AxesSubplot:xlabel='w', ylabel='floor'>,\n",
       "        <AxesSubplot:xlabel='ww', ylabel='floor'>,\n",
       "        <AxesSubplot:xlabel='floor', ylabel='floor'>,\n",
       "        <AxesSubplot:xlabel='ceiling', ylabel='floor'>],\n",
       "       [<AxesSubplot:xlabel='tem', ylabel='ceiling'>,\n",
       "        <AxesSubplot:xlabel='n1', ylabel='ceiling'>,\n",
       "        <AxesSubplot:xlabel='s', ylabel='ceiling'>,\n",
       "        <AxesSubplot:xlabel='sw', ylabel='ceiling'>,\n",
       "        <AxesSubplot:xlabel='e', ylabel='ceiling'>,\n",
       "        <AxesSubplot:xlabel='w', ylabel='ceiling'>,\n",
       "        <AxesSubplot:xlabel='ww', ylabel='ceiling'>,\n",
       "        <AxesSubplot:xlabel='floor', ylabel='ceiling'>,\n",
       "        <AxesSubplot:xlabel='ceiling', ylabel='ceiling'>]], dtype=object)"
      ]
     },
     "execution_count": 68,
     "metadata": {},
     "output_type": "execute_result"
    },
    {
     "data": {
      "image/png": "[encoded data removed]",
      "text/plain": [
       "<Figure size 432x288 with 81 Axes>"
      ]
     },
     "metadata": {
      "needs_background": "light"
     },
     "output_type": "display_data"
    }
   ],
   "source": [
    "scatter_matrix(df_walls)"
   ]
  },
  {
   "cell_type": "code",
   "execution_count": 36,
   "metadata": {},
   "outputs": [
    {
     "data": {
      "text/plain": [
       "<AxesSubplot:>"
      ]
     },
     "execution_count": 36,
     "metadata": {},
     "output_type": "execute_result"
    },
    {
     "data": {
      "image/png": "[encoded data removed]",
      "text/plain": [
       "<Figure size 432x288 with 1 Axes>"
      ]
     },
     "metadata": {
      "needs_background": "light"
     },
     "output_type": "display_data"
    }
   ],
   "source": [
    "df_walls['tem'].hist()"
   ]
  },
  {
   "cell_type": "code",
   "execution_count": 26,
   "metadata": {},
   "outputs": [
    {
     "data": {
      "text/plain": [
       "<AxesSubplot:>"
      ]
     },
     "execution_count": 26,
     "metadata": {},
     "output_type": "execute_result"
    },
    {
     "data": {
      "image/png": "[encoded data removed]",
      "text/plain": [
       "<Figure size 432x288 with 1 Axes>"
      ]
     },
     "metadata": {
      "needs_background": "light"
     },
     "output_type": "display_data"
    }
   ],
   "source": [
    "df_walls['floor'].hist()"
   ]
  },
  {
   "cell_type": "code",
   "execution_count": 57,
   "metadata": {},
   "outputs": [],
   "source": [
    "df_clear.corr()\n",
    "df_clear.plot.scatter(x='w',y='ww')"
   ]
  },
  {
   "cell_type": "markdown",
   "metadata": {},
   "source": [
    "## Find the linear relationship between columns"
   ]
  },
  {
   "cell_type": "code",
   "execution_count": 22,
   "metadata": {},
   "outputs": [],
   "source": [
    "import scipy.stats"
   ]
  },
  {
   "cell_type": "code",
   "execution_count": 34,
   "metadata": {},
   "outputs": [],
   "source": [
    "slop=[]\n",
    "inter=[]\n",
    "R=[]\n",
    "P=[]\n",
    "for col in df_walls.columns:\n",
    "    s,i,r,p,_=scipy.stats.linregress(df_walls['floor'],df_walls[col])\n",
    "    slop.append(s)\n",
    "    inter.append(i)\n",
    "    R.append(r)\n",
    "    P.append(p)"
   ]
  },
  {
   "cell_type": "code",
   "execution_count": 35,
   "metadata": {},
   "outputs": [
    {
     "data": {
      "text/plain": [
       "Index(['out', 'tem', 'n1', 's', 'sw', 'e', 'n2', 'w', 'ww', 'floor',\n",
       "       'ceiling'],\n",
       "      dtype='object')"
      ]
     },
     "execution_count": 35,
     "metadata": {},
     "output_type": "execute_result"
    }
   ],
   "source": [
    "df_walls.columns"
   ]
  },
  {
   "cell_type": "code",
   "execution_count": 36,
   "metadata": {},
   "outputs": [
    {
     "data": {
      "text/html": [
       "<div>\n",
       "<style scoped>\n",
       "    .dataframe tbody tr th:only-of-type {\n",
       "        vertical-align: middle;\n",
       "    }\n",
       "\n",
       "    .dataframe tbody tr th {\n",
       "        vertical-align: top;\n",
       "    }\n",
       "\n",
       "    .dataframe thead th {\n",
       "        text-align: right;\n",
       "    }\n",
       "</style>\n",
       "<table border=\"1\" class=\"dataframe\">\n",
       "  <thead>\n",
       "    <tr style=\"text-align: right;\">\n",
       "      <th></th>\n",
       "      <th>out</th>\n",
       "      <th>tem</th>\n",
       "      <th>n1</th>\n",
       "      <th>s</th>\n",
       "      <th>sw</th>\n",
       "      <th>e</th>\n",
       "      <th>n2</th>\n",
       "      <th>w</th>\n",
       "      <th>ww</th>\n",
       "      <th>floor</th>\n",
       "      <th>ceiling</th>\n",
       "    </tr>\n",
       "    <tr>\n",
       "      <th>Date</th>\n",
       "      <th></th>\n",
       "      <th></th>\n",
       "      <th></th>\n",
       "      <th></th>\n",
       "      <th></th>\n",
       "      <th></th>\n",
       "      <th></th>\n",
       "      <th></th>\n",
       "      <th></th>\n",
       "      <th></th>\n",
       "      <th></th>\n",
       "    </tr>\n",
       "  </thead>\n",
       "  <tbody>\n",
       "    <tr>\n",
       "      <th>01/01  01:00:00</th>\n",
       "      <td>3.100000</td>\n",
       "      <td>15.6</td>\n",
       "      <td>14.969495</td>\n",
       "      <td>14.516262</td>\n",
       "      <td>10.667356</td>\n",
       "      <td>15.032881</td>\n",
       "      <td>15.101662</td>\n",
       "      <td>14.494765</td>\n",
       "      <td>10.692775</td>\n",
       "      <td>15.072239</td>\n",
       "      <td>14.932036</td>\n",
       "    </tr>\n",
       "    <tr>\n",
       "      <th>01/01  02:00:00</th>\n",
       "      <td>-1.633333</td>\n",
       "      <td>15.6</td>\n",
       "      <td>14.845857</td>\n",
       "      <td>14.264236</td>\n",
       "      <td>9.572860</td>\n",
       "      <td>14.927319</td>\n",
       "      <td>15.003793</td>\n",
       "      <td>14.238915</td>\n",
       "      <td>9.637330</td>\n",
       "      <td>14.994772</td>\n",
       "      <td>14.838414</td>\n",
       "    </tr>\n",
       "    <tr>\n",
       "      <th>01/01  03:00:00</th>\n",
       "      <td>-2.033333</td>\n",
       "      <td>15.6</td>\n",
       "      <td>14.780562</td>\n",
       "      <td>14.032646</td>\n",
       "      <td>9.437750</td>\n",
       "      <td>14.868444</td>\n",
       "      <td>14.953579</td>\n",
       "      <td>14.010805</td>\n",
       "      <td>9.503474</td>\n",
       "      <td>14.961904</td>\n",
       "      <td>14.798600</td>\n",
       "    </tr>\n",
       "    <tr>\n",
       "      <th>01/01  04:00:00</th>\n",
       "      <td>-2.433333</td>\n",
       "      <td>15.6</td>\n",
       "      <td>14.736425</td>\n",
       "      <td>13.869836</td>\n",
       "      <td>9.268384</td>\n",
       "      <td>14.828190</td>\n",
       "      <td>14.917997</td>\n",
       "      <td>13.848420</td>\n",
       "      <td>9.336981</td>\n",
       "      <td>14.932588</td>\n",
       "      <td>14.763572</td>\n",
       "    </tr>\n",
       "    <tr>\n",
       "      <th>01/01  05:00:00</th>\n",
       "      <td>-2.775000</td>\n",
       "      <td>15.6</td>\n",
       "      <td>14.701547</td>\n",
       "      <td>13.752946</td>\n",
       "      <td>9.132531</td>\n",
       "      <td>14.795978</td>\n",
       "      <td>14.889475</td>\n",
       "      <td>13.729092</td>\n",
       "      <td>9.209504</td>\n",
       "      <td>14.906629</td>\n",
       "      <td>14.732734</td>\n",
       "    </tr>\n",
       "  </tbody>\n",
       "</table>\n",
       "</div>"
      ],
      "text/plain": [
       "                       out   tem         n1          s         sw          e  \\\n",
       "Date                                                                           \n",
       " 01/01  01:00:00  3.100000  15.6  14.969495  14.516262  10.667356  15.032881   \n",
       " 01/01  02:00:00 -1.633333  15.6  14.845857  14.264236   9.572860  14.927319   \n",
       " 01/01  03:00:00 -2.033333  15.6  14.780562  14.032646   9.437750  14.868444   \n",
       " 01/01  04:00:00 -2.433333  15.6  14.736425  13.869836   9.268384  14.828190   \n",
       " 01/01  05:00:00 -2.775000  15.6  14.701547  13.752946   9.132531  14.795978   \n",
       "\n",
       "                         n2          w         ww      floor    ceiling  \n",
       "Date                                                                     \n",
       " 01/01  01:00:00  15.101662  14.494765  10.692775  15.072239  14.932036  \n",
       " 01/01  02:00:00  15.003793  14.238915   9.637330  14.994772  14.838414  \n",
       " 01/01  03:00:00  14.953579  14.010805   9.503474  14.961904  14.798600  \n",
       " 01/01  04:00:00  14.917997  13.848420   9.336981  14.932588  14.763572  \n",
       " 01/01  05:00:00  14.889475  13.729092   9.209504  14.906629  14.732734  "
      ]
     },
     "execution_count": 36,
     "metadata": {},
     "output_type": "execute_result"
    }
   ],
   "source": [
    "df_walls.head()"
   ]
  },
  {
   "cell_type": "code",
   "execution_count": 42,
   "metadata": {},
   "outputs": [
    {
     "data": {
      "text/plain": [
       "[0.0, 0.0, 0.0, 0.0, 0.0, 0.0, 0.0, 0.0, 0.0, 0.0, 0.0]"
      ]
     },
     "execution_count": 42,
     "metadata": {},
     "output_type": "execute_result"
    }
   ],
   "source": [
    "P"
   ]
  },
  {
   "cell_type": "code",
   "execution_count": 37,
   "metadata": {},
   "outputs": [
    {
     "data": {
      "text/plain": [
       "[3.627260236864492,\n",
       " 0.7400413298195355,\n",
       " 1.0634745724078094,\n",
       " 1.2796716389917857,\n",
       " 2.0104445188536872,\n",
       " 1.0269098976400561,\n",
       " 0.9707545427800546,\n",
       " 1.2702633819882136,\n",
       " 2.14513624450716,\n",
       " 1.0,\n",
       " 1.041054420159733]"
      ]
     },
     "execution_count": 37,
     "metadata": {},
     "output_type": "execute_result"
    }
   ],
   "source": [
    "slop"
   ]
  },
  {
   "cell_type": "code",
   "execution_count": 38,
   "metadata": {},
   "outputs": [
    {
     "data": {
      "text/plain": [
       "[-70.14255342073349,\n",
       " 5.496891289624383,\n",
       " -1.320686908040745,\n",
       " -6.440125425046535,\n",
       " -24.644380325825363,\n",
       " -0.365597550705246,\n",
       " 0.7901813933325386,\n",
       " -6.327249025646619,\n",
       " -28.148296094850263,\n",
       " 0.0,\n",
       " -0.8531402106842982]"
      ]
     },
     "execution_count": 38,
     "metadata": {},
     "output_type": "execute_result"
    }
   ],
   "source": [
    "inter"
   ]
  },
  {
   "cell_type": "code",
   "execution_count": 41,
   "metadata": {},
   "outputs": [
    {
     "data": {
      "text/plain": [
       "[0.9076722721379803,\n",
       " 0.9303008005319711,\n",
       " 0.9928427024648933,\n",
       " 0.986482790345079,\n",
       " 0.9426377088163466,\n",
       " 0.9933964231623157,\n",
       " 0.9953403702251147,\n",
       " 0.9870135332641593,\n",
       " 0.9488965966380327,\n",
       " 1.0,\n",
       " 0.9961253045325493]"
      ]
     },
     "execution_count": 41,
     "metadata": {},
     "output_type": "execute_result"
    }
   ],
   "source": [
    "R"
   ]
  },
  {
   "cell_type": "code",
   "execution_count": 13,
   "metadata": {},
   "outputs": [],
   "source": [
    "interior_dif=df_walls.subtract(df_walls['floor'],axis=0)"
   ]
  },
  {
   "cell_type": "code",
   "execution_count": 14,
   "metadata": {},
   "outputs": [
    {
     "data": {
      "text/html": [
       "<div>\n",
       "<style scoped>\n",
       "    .dataframe tbody tr th:only-of-type {\n",
       "        vertical-align: middle;\n",
       "    }\n",
       "\n",
       "    .dataframe tbody tr th {\n",
       "        vertical-align: top;\n",
       "    }\n",
       "\n",
       "    .dataframe thead th {\n",
       "        text-align: right;\n",
       "    }\n",
       "</style>\n",
       "<table border=\"1\" class=\"dataframe\">\n",
       "  <thead>\n",
       "    <tr style=\"text-align: right;\">\n",
       "      <th></th>\n",
       "      <th>tem</th>\n",
       "      <th>n1</th>\n",
       "      <th>s</th>\n",
       "      <th>sw</th>\n",
       "      <th>e</th>\n",
       "      <th>w</th>\n",
       "      <th>ww</th>\n",
       "      <th>floor</th>\n",
       "      <th>ceiling</th>\n",
       "    </tr>\n",
       "    <tr>\n",
       "      <th>Date</th>\n",
       "      <th></th>\n",
       "      <th></th>\n",
       "      <th></th>\n",
       "      <th></th>\n",
       "      <th></th>\n",
       "      <th></th>\n",
       "      <th></th>\n",
       "      <th></th>\n",
       "      <th></th>\n",
       "    </tr>\n",
       "  </thead>\n",
       "  <tbody>\n",
       "    <tr>\n",
       "      <th>01/01  01:00:00</th>\n",
       "      <td>0.527761</td>\n",
       "      <td>-0.102745</td>\n",
       "      <td>-0.555977</td>\n",
       "      <td>-4.404883</td>\n",
       "      <td>-0.039358</td>\n",
       "      <td>-0.577474</td>\n",
       "      <td>-4.379465</td>\n",
       "      <td>0.0</td>\n",
       "      <td>-0.140204</td>\n",
       "    </tr>\n",
       "    <tr>\n",
       "      <th>01/01  02:00:00</th>\n",
       "      <td>0.605228</td>\n",
       "      <td>-0.148915</td>\n",
       "      <td>-0.730536</td>\n",
       "      <td>-5.421912</td>\n",
       "      <td>-0.067453</td>\n",
       "      <td>-0.755857</td>\n",
       "      <td>-5.357442</td>\n",
       "      <td>0.0</td>\n",
       "      <td>-0.156358</td>\n",
       "    </tr>\n",
       "    <tr>\n",
       "      <th>01/01  03:00:00</th>\n",
       "      <td>0.638096</td>\n",
       "      <td>-0.181342</td>\n",
       "      <td>-0.929258</td>\n",
       "      <td>-5.524154</td>\n",
       "      <td>-0.093460</td>\n",
       "      <td>-0.951099</td>\n",
       "      <td>-5.458430</td>\n",
       "      <td>0.0</td>\n",
       "      <td>-0.163303</td>\n",
       "    </tr>\n",
       "    <tr>\n",
       "      <th>01/01  04:00:00</th>\n",
       "      <td>0.667412</td>\n",
       "      <td>-0.196163</td>\n",
       "      <td>-1.062752</td>\n",
       "      <td>-5.664204</td>\n",
       "      <td>-0.104398</td>\n",
       "      <td>-1.084168</td>\n",
       "      <td>-5.595607</td>\n",
       "      <td>0.0</td>\n",
       "      <td>-0.169016</td>\n",
       "    </tr>\n",
       "    <tr>\n",
       "      <th>01/01  05:00:00</th>\n",
       "      <td>0.693371</td>\n",
       "      <td>-0.205082</td>\n",
       "      <td>-1.153683</td>\n",
       "      <td>-5.774097</td>\n",
       "      <td>-0.110651</td>\n",
       "      <td>-1.177537</td>\n",
       "      <td>-5.697125</td>\n",
       "      <td>0.0</td>\n",
       "      <td>-0.173894</td>\n",
       "    </tr>\n",
       "  </tbody>\n",
       "</table>\n",
       "</div>"
      ],
      "text/plain": [
       "                       tem        n1         s        sw         e         w  \\\n",
       "Date                                                                           \n",
       " 01/01  01:00:00  0.527761 -0.102745 -0.555977 -4.404883 -0.039358 -0.577474   \n",
       " 01/01  02:00:00  0.605228 -0.148915 -0.730536 -5.421912 -0.067453 -0.755857   \n",
       " 01/01  03:00:00  0.638096 -0.181342 -0.929258 -5.524154 -0.093460 -0.951099   \n",
       " 01/01  04:00:00  0.667412 -0.196163 -1.062752 -5.664204 -0.104398 -1.084168   \n",
       " 01/01  05:00:00  0.693371 -0.205082 -1.153683 -5.774097 -0.110651 -1.177537   \n",
       "\n",
       "                        ww  floor   ceiling  \n",
       "Date                                         \n",
       " 01/01  01:00:00 -4.379465    0.0 -0.140204  \n",
       " 01/01  02:00:00 -5.357442    0.0 -0.156358  \n",
       " 01/01  03:00:00 -5.458430    0.0 -0.163303  \n",
       " 01/01  04:00:00 -5.595607    0.0 -0.169016  \n",
       " 01/01  05:00:00 -5.697125    0.0 -0.173894  "
      ]
     },
     "execution_count": 14,
     "metadata": {},
     "output_type": "execute_result"
    }
   ],
   "source": [
    "interior_dif.head()"
   ]
  },
  {
   "cell_type": "code",
   "execution_count": 15,
   "metadata": {},
   "outputs": [
    {
     "data": {
      "text/plain": [
       "array([[<AxesSubplot:title={'center':'tem'}>,\n",
       "        <AxesSubplot:title={'center':'n1'}>,\n",
       "        <AxesSubplot:title={'center':'s'}>],\n",
       "       [<AxesSubplot:title={'center':'sw'}>,\n",
       "        <AxesSubplot:title={'center':'e'}>,\n",
       "        <AxesSubplot:title={'center':'w'}>],\n",
       "       [<AxesSubplot:title={'center':'ww'}>,\n",
       "        <AxesSubplot:title={'center':'floor'}>,\n",
       "        <AxesSubplot:title={'center':'ceiling'}>]], dtype=object)"
      ]
     },
     "execution_count": 15,
     "metadata": {},
     "output_type": "execute_result"
    },
    {
     "data": {
      "image/png": "[encoded data removed]",
      "text/plain": [
       "<Figure size 432x288 with 9 Axes>"
      ]
     },
     "metadata": {
      "needs_background": "light"
     },
     "output_type": "display_data"
    }
   ],
   "source": [
    "interior_dif.hist()"
   ]
  },
  {
   "cell_type": "markdown",
   "metadata": {},
   "source": [
    "## Sampling the differences"
   ]
  },
  {
   "cell_type": "code",
   "execution_count": null,
   "metadata": {},
   "outputs": [],
   "source": [
    "## https://campus.datacamp.com/courses/experimental-design-in-python/design-considerations-in-experimental-design?ex=5"
   ]
  },
  {
   "cell_type": "markdown",
   "metadata": {},
   "source": [
    "### Step 1 Sampling the temperation combinations for heating and cooling season separately\n"
   ]
  },
  {
   "cell_type": "code",
   "execution_count": null,
   "metadata": {},
   "outputs": [],
   "source": [
    "heating="
   ]
  },
  {
   "cell_type": "code",
   "execution_count": 30,
   "metadata": {},
   "outputs": [
    {
     "data": {
      "text/plain": [
       "array([[<AxesSubplot:xlabel='tem', ylabel='tem'>,\n",
       "        <AxesSubplot:xlabel='floor', ylabel='tem'>],\n",
       "       [<AxesSubplot:xlabel='tem', ylabel='floor'>,\n",
       "        <AxesSubplot:xlabel='floor', ylabel='floor'>]], dtype=object)"
      ]
     },
     "execution_count": 30,
     "metadata": {},
     "output_type": "execute_result"
    },
    {
     "data": {
      "image/png": "[encoded data removed]",
      "text/plain": [
       "<Figure size 432x288 with 4 Axes>"
      ]
     },
     "metadata": {
      "needs_background": "light"
     },
     "output_type": "display_data"
    }
   ],
   "source": [
    "scatter_matrix(df_walls[['tem','floor']])"
   ]
  },
  {
   "cell_type": "code",
   "execution_count": 16,
   "metadata": {},
   "outputs": [],
   "source": [
    "def sampling_diff(col,size=100):\n",
    "    samples=np.random.choice(col,size=size)\n",
    "    return samples\n",
    "sample_diff=interior_dif.apply(lambda x: sampling_diff(x))"
   ]
  },
  {
   "cell_type": "code",
   "execution_count": 17,
   "metadata": {},
   "outputs": [
    {
     "data": {
      "text/html": [
       "<div>\n",
       "<style scoped>\n",
       "    .dataframe tbody tr th:only-of-type {\n",
       "        vertical-align: middle;\n",
       "    }\n",
       "\n",
       "    .dataframe tbody tr th {\n",
       "        vertical-align: top;\n",
       "    }\n",
       "\n",
       "    .dataframe thead th {\n",
       "        text-align: right;\n",
       "    }\n",
       "</style>\n",
       "<table border=\"1\" class=\"dataframe\">\n",
       "  <thead>\n",
       "    <tr style=\"text-align: right;\">\n",
       "      <th></th>\n",
       "      <th>tem</th>\n",
       "      <th>n1</th>\n",
       "      <th>s</th>\n",
       "      <th>sw</th>\n",
       "      <th>e</th>\n",
       "      <th>w</th>\n",
       "      <th>ww</th>\n",
       "      <th>floor</th>\n",
       "      <th>ceiling</th>\n",
       "    </tr>\n",
       "  </thead>\n",
       "  <tbody>\n",
       "    <tr>\n",
       "      <th>0</th>\n",
       "      <td>-0.855131</td>\n",
       "      <td>0.456732</td>\n",
       "      <td>0.828288</td>\n",
       "      <td>-3.416012</td>\n",
       "      <td>0.351415</td>\n",
       "      <td>0.094228</td>\n",
       "      <td>-5.811956</td>\n",
       "      <td>0.0</td>\n",
       "      <td>0.250767</td>\n",
       "    </tr>\n",
       "    <tr>\n",
       "      <th>1</th>\n",
       "      <td>-0.684307</td>\n",
       "      <td>0.370723</td>\n",
       "      <td>0.230277</td>\n",
       "      <td>-2.823026</td>\n",
       "      <td>1.609619</td>\n",
       "      <td>-0.846964</td>\n",
       "      <td>6.696065</td>\n",
       "      <td>0.0</td>\n",
       "      <td>0.269739</td>\n",
       "    </tr>\n",
       "    <tr>\n",
       "      <th>2</th>\n",
       "      <td>-1.732345</td>\n",
       "      <td>0.262442</td>\n",
       "      <td>1.472038</td>\n",
       "      <td>-0.728165</td>\n",
       "      <td>0.162760</td>\n",
       "      <td>-0.779525</td>\n",
       "      <td>6.902571</td>\n",
       "      <td>0.0</td>\n",
       "      <td>0.350535</td>\n",
       "    </tr>\n",
       "    <tr>\n",
       "      <th>3</th>\n",
       "      <td>-1.836080</td>\n",
       "      <td>0.660648</td>\n",
       "      <td>-1.354666</td>\n",
       "      <td>3.339199</td>\n",
       "      <td>-0.189799</td>\n",
       "      <td>1.700411</td>\n",
       "      <td>-2.108007</td>\n",
       "      <td>0.0</td>\n",
       "      <td>0.201877</td>\n",
       "    </tr>\n",
       "    <tr>\n",
       "      <th>4</th>\n",
       "      <td>-0.343261</td>\n",
       "      <td>-0.187310</td>\n",
       "      <td>-0.355709</td>\n",
       "      <td>2.428853</td>\n",
       "      <td>0.236353</td>\n",
       "      <td>1.006197</td>\n",
       "      <td>-3.714211</td>\n",
       "      <td>0.0</td>\n",
       "      <td>-0.016773</td>\n",
       "    </tr>\n",
       "    <tr>\n",
       "      <th>...</th>\n",
       "      <td>...</td>\n",
       "      <td>...</td>\n",
       "      <td>...</td>\n",
       "      <td>...</td>\n",
       "      <td>...</td>\n",
       "      <td>...</td>\n",
       "      <td>...</td>\n",
       "      <td>...</td>\n",
       "      <td>...</td>\n",
       "    </tr>\n",
       "    <tr>\n",
       "      <th>95</th>\n",
       "      <td>0.456683</td>\n",
       "      <td>0.596712</td>\n",
       "      <td>1.284044</td>\n",
       "      <td>1.072915</td>\n",
       "      <td>0.202217</td>\n",
       "      <td>0.238451</td>\n",
       "      <td>0.812736</td>\n",
       "      <td>0.0</td>\n",
       "      <td>0.476436</td>\n",
       "    </tr>\n",
       "    <tr>\n",
       "      <th>96</th>\n",
       "      <td>0.493979</td>\n",
       "      <td>-0.306294</td>\n",
       "      <td>0.803953</td>\n",
       "      <td>-6.110152</td>\n",
       "      <td>0.174934</td>\n",
       "      <td>-0.384891</td>\n",
       "      <td>-4.899544</td>\n",
       "      <td>0.0</td>\n",
       "      <td>-0.379670</td>\n",
       "    </tr>\n",
       "    <tr>\n",
       "      <th>97</th>\n",
       "      <td>-1.731173</td>\n",
       "      <td>0.257420</td>\n",
       "      <td>-1.508844</td>\n",
       "      <td>-1.465586</td>\n",
       "      <td>0.286023</td>\n",
       "      <td>0.650407</td>\n",
       "      <td>-8.801144</td>\n",
       "      <td>0.0</td>\n",
       "      <td>0.136887</td>\n",
       "    </tr>\n",
       "    <tr>\n",
       "      <th>98</th>\n",
       "      <td>1.224706</td>\n",
       "      <td>0.118850</td>\n",
       "      <td>0.969805</td>\n",
       "      <td>-7.333974</td>\n",
       "      <td>0.009878</td>\n",
       "      <td>0.739022</td>\n",
       "      <td>2.171572</td>\n",
       "      <td>0.0</td>\n",
       "      <td>0.098339</td>\n",
       "    </tr>\n",
       "    <tr>\n",
       "      <th>99</th>\n",
       "      <td>1.291883</td>\n",
       "      <td>0.379611</td>\n",
       "      <td>0.848046</td>\n",
       "      <td>-3.654220</td>\n",
       "      <td>0.321551</td>\n",
       "      <td>1.482823</td>\n",
       "      <td>1.802838</td>\n",
       "      <td>0.0</td>\n",
       "      <td>-0.115195</td>\n",
       "    </tr>\n",
       "  </tbody>\n",
       "</table>\n",
       "<p>100 rows × 9 columns</p>\n",
       "</div>"
      ],
      "text/plain": [
       "         tem        n1         s        sw         e         w        ww  \\\n",
       "0  -0.855131  0.456732  0.828288 -3.416012  0.351415  0.094228 -5.811956   \n",
       "1  -0.684307  0.370723  0.230277 -2.823026  1.609619 -0.846964  6.696065   \n",
       "2  -1.732345  0.262442  1.472038 -0.728165  0.162760 -0.779525  6.902571   \n",
       "3  -1.836080  0.660648 -1.354666  3.339199 -0.189799  1.700411 -2.108007   \n",
       "4  -0.343261 -0.187310 -0.355709  2.428853  0.236353  1.006197 -3.714211   \n",
       "..       ...       ...       ...       ...       ...       ...       ...   \n",
       "95  0.456683  0.596712  1.284044  1.072915  0.202217  0.238451  0.812736   \n",
       "96  0.493979 -0.306294  0.803953 -6.110152  0.174934 -0.384891 -4.899544   \n",
       "97 -1.731173  0.257420 -1.508844 -1.465586  0.286023  0.650407 -8.801144   \n",
       "98  1.224706  0.118850  0.969805 -7.333974  0.009878  0.739022  2.171572   \n",
       "99  1.291883  0.379611  0.848046 -3.654220  0.321551  1.482823  1.802838   \n",
       "\n",
       "    floor   ceiling  \n",
       "0     0.0  0.250767  \n",
       "1     0.0  0.269739  \n",
       "2     0.0  0.350535  \n",
       "3     0.0  0.201877  \n",
       "4     0.0 -0.016773  \n",
       "..    ...       ...  \n",
       "95    0.0  0.476436  \n",
       "96    0.0 -0.379670  \n",
       "97    0.0  0.136887  \n",
       "98    0.0  0.098339  \n",
       "99    0.0 -0.115195  \n",
       "\n",
       "[100 rows x 9 columns]"
      ]
     },
     "execution_count": 17,
     "metadata": {},
     "output_type": "execute_result"
    }
   ],
   "source": [
    "sample_diff"
   ]
  },
  {
   "cell_type": "markdown",
   "metadata": {},
   "source": [
    "### Step 2 Obtain the permutation of surface temperature and supply air"
   ]
  },
  {
   "cell_type": "code",
   "execution_count": 22,
   "metadata": {},
   "outputs": [],
   "source": [
    "intv=1\n",
    "interior_wall=np.arange(15,27,intv)\n",
    "m_range=np.arange(0,0.4,intv/20)\n",
    "tem_inx=np.arange(len(sample_diff)*len(interior_wall))\n"
   ]
  },
  {
   "cell_type": "code",
   "execution_count": 23,
   "metadata": {},
   "outputs": [],
   "source": [
    "all_list=[tem_inx,m_range]"
   ]
  },
  {
   "cell_type": "code",
   "execution_count": 24,
   "metadata": {},
   "outputs": [],
   "source": [
    "import itertools\n",
    "res = list(itertools.product(*all_list))"
   ]
  },
  {
   "cell_type": "code",
   "execution_count": 25,
   "metadata": {},
   "outputs": [
    {
     "data": {
      "text/plain": [
       "9600"
      ]
     },
     "execution_count": 25,
     "metadata": {},
     "output_type": "execute_result"
    }
   ],
   "source": [
    "len(res)"
   ]
  },
  {
   "cell_type": "markdown",
   "metadata": {},
   "source": [
    "### 2. Determine the temperature/mass flow range and interval"
   ]
  },
  {
   "cell_type": "markdown",
   "metadata": {},
   "source": [
    "#### Temperature at mass flow @0"
   ]
  },
  {
   "cell_type": "code",
   "execution_count": 21,
   "metadata": {},
   "outputs": [
    {
     "data": {
      "text/plain": [
       "<AxesSubplot:>"
      ]
     },
     "execution_count": 21,
     "metadata": {},
     "output_type": "execute_result"
    },
    {
     "data": {
      "image/png": "[encoded data removed]",
      "text/plain": [
       "<Figure size 432x288 with 1 Axes>"
      ]
     },
     "metadata": {
      "needs_background": "light"
     },
     "output_type": "display_data"
    }
   ],
   "source": [
    "mass0=df.loc[df['Mass']==0,'Tem']\n",
    "mass0.hist()"
   ]
  },
  {
   "cell_type": "code",
   "execution_count": 18,
   "metadata": {},
   "outputs": [],
   "source": [
    "mass1_t=df.loc[df['Mass']!=0,'Tem']"
   ]
  },
  {
   "cell_type": "code",
   "execution_count": 19,
   "metadata": {},
   "outputs": [
    {
     "data": {
      "text/plain": [
       "<AxesSubplot:>"
      ]
     },
     "execution_count": 19,
     "metadata": {},
     "output_type": "execute_result"
    },
    {
     "data": {
      "image/png": "[encoded data removed]",
      "text/plain": [
       "<Figure size 432x288 with 1 Axes>"
      ]
     },
     "metadata": {
      "needs_background": "light"
     },
     "output_type": "display_data"
    }
   ],
   "source": [
    "mass1_t.hist()"
   ]
  },
  {
   "cell_type": "code",
   "execution_count": 20,
   "metadata": {},
   "outputs": [
    {
     "data": {
      "text/plain": [
       "<AxesSubplot:>"
      ]
     },
     "execution_count": 20,
     "metadata": {},
     "output_type": "execute_result"
    },
    {
     "data": {
      "image/png": "[encoded data removed]",
      "text/plain": [
       "<Figure size 432x288 with 1 Axes>"
      ]
     },
     "metadata": {
      "needs_background": "light"
     },
     "output_type": "display_data"
    }
   ],
   "source": [
    "mass1_m=df.loc[df['Mass']!=0,'Mass']\n",
    "mass1_m.hist()"
   ]
  },
  {
   "cell_type": "markdown",
   "metadata": {},
   "source": [
    "### 3. Generate permutation combination of 6 parameters"
   ]
  },
  {
   "cell_type": "code",
   "execution_count": 71,
   "metadata": {},
   "outputs": [],
   "source": [
    "intv=10"
   ]
  },
  {
   "cell_type": "code",
   "execution_count": 72,
   "metadata": {},
   "outputs": [],
   "source": [
    "t_range=np.arange(15,27.4,intv)"
   ]
  },
  {
   "cell_type": "code",
   "execution_count": 73,
   "metadata": {},
   "outputs": [],
   "source": [
    "m_range=np.arange(0,0.4,intv/30)"
   ]
  },
  {
   "cell_type": "code",
   "execution_count": 74,
   "metadata": {},
   "outputs": [],
   "source": [
    "interior_wall=np.arange(15,27,intv)"
   ]
  },
  {
   "cell_type": "code",
   "execution_count": 75,
   "metadata": {},
   "outputs": [],
   "source": [
    "exterior_windows=np.arange(9,35,intv)"
   ]
  },
  {
   "cell_type": "code",
   "execution_count": 76,
   "metadata": {},
   "outputs": [],
   "source": [
    "exterior_walls=np.arange(13,30,intv)"
   ]
  },
  {
   "cell_type": "code",
   "execution_count": 77,
   "metadata": {},
   "outputs": [],
   "source": [
    "# https://www.geeksforgeeks.org/python-all-possible-permutations-of-n-lists/\n",
    "import itertools"
   ]
  },
  {
   "cell_type": "code",
   "execution_count": 94,
   "metadata": {},
   "outputs": [],
   "source": [
    "all_list = [list(t_range), list(m_range), list(interior_wall),list(interior_wall),list(interior_wall),list(interior_wall),exterior_windows,exterior_windows,exterior_walls] "
   ]
  },
  {
   "cell_type": "code",
   "execution_count": 95,
   "metadata": {},
   "outputs": [],
   "source": [
    "res = list(itertools.product(*all_list))"
   ]
  },
  {
   "cell_type": "code",
   "execution_count": 83,
   "metadata": {},
   "outputs": [
    {
     "data": {
      "text/html": [
       "<div>\n",
       "<style scoped>\n",
       "    .dataframe tbody tr th:only-of-type {\n",
       "        vertical-align: middle;\n",
       "    }\n",
       "\n",
       "    .dataframe tbody tr th {\n",
       "        vertical-align: top;\n",
       "    }\n",
       "\n",
       "    .dataframe thead th {\n",
       "        text-align: right;\n",
       "    }\n",
       "</style>\n",
       "<table border=\"1\" class=\"dataframe\">\n",
       "  <thead>\n",
       "    <tr style=\"text-align: right;\">\n",
       "      <th></th>\n",
       "      <th>tem</th>\n",
       "      <th>n1</th>\n",
       "      <th>s</th>\n",
       "      <th>sw</th>\n",
       "      <th>e</th>\n",
       "      <th>n2</th>\n",
       "      <th>w</th>\n",
       "      <th>ww</th>\n",
       "      <th>floor</th>\n",
       "      <th>ceiling</th>\n",
       "    </tr>\n",
       "    <tr>\n",
       "      <th>Date</th>\n",
       "      <th></th>\n",
       "      <th></th>\n",
       "      <th></th>\n",
       "      <th></th>\n",
       "      <th></th>\n",
       "      <th></th>\n",
       "      <th></th>\n",
       "      <th></th>\n",
       "      <th></th>\n",
       "      <th></th>\n",
       "    </tr>\n",
       "  </thead>\n",
       "  <tbody>\n",
       "    <tr>\n",
       "      <th>01/01  01:00:00</th>\n",
       "      <td>15.60000</td>\n",
       "      <td>14.969495</td>\n",
       "      <td>14.516262</td>\n",
       "      <td>10.667356</td>\n",
       "      <td>15.032881</td>\n",
       "      <td>15.101662</td>\n",
       "      <td>14.494765</td>\n",
       "      <td>10.692775</td>\n",
       "      <td>15.072239</td>\n",
       "      <td>14.932036</td>\n",
       "    </tr>\n",
       "    <tr>\n",
       "      <th>01/01  02:00:00</th>\n",
       "      <td>15.60000</td>\n",
       "      <td>14.845857</td>\n",
       "      <td>14.264236</td>\n",
       "      <td>9.572860</td>\n",
       "      <td>14.927319</td>\n",
       "      <td>15.003793</td>\n",
       "      <td>14.238915</td>\n",
       "      <td>9.637330</td>\n",
       "      <td>14.994772</td>\n",
       "      <td>14.838414</td>\n",
       "    </tr>\n",
       "    <tr>\n",
       "      <th>01/01  03:00:00</th>\n",
       "      <td>15.60000</td>\n",
       "      <td>14.780562</td>\n",
       "      <td>14.032646</td>\n",
       "      <td>9.437750</td>\n",
       "      <td>14.868444</td>\n",
       "      <td>14.953579</td>\n",
       "      <td>14.010805</td>\n",
       "      <td>9.503474</td>\n",
       "      <td>14.961904</td>\n",
       "      <td>14.798600</td>\n",
       "    </tr>\n",
       "    <tr>\n",
       "      <th>01/01  04:00:00</th>\n",
       "      <td>15.60000</td>\n",
       "      <td>14.736425</td>\n",
       "      <td>13.869836</td>\n",
       "      <td>9.268384</td>\n",
       "      <td>14.828190</td>\n",
       "      <td>14.917997</td>\n",
       "      <td>13.848420</td>\n",
       "      <td>9.336981</td>\n",
       "      <td>14.932588</td>\n",
       "      <td>14.763572</td>\n",
       "    </tr>\n",
       "    <tr>\n",
       "      <th>01/01  05:00:00</th>\n",
       "      <td>15.60000</td>\n",
       "      <td>14.701547</td>\n",
       "      <td>13.752946</td>\n",
       "      <td>9.132531</td>\n",
       "      <td>14.795978</td>\n",
       "      <td>14.889475</td>\n",
       "      <td>13.729092</td>\n",
       "      <td>9.209504</td>\n",
       "      <td>14.906629</td>\n",
       "      <td>14.732734</td>\n",
       "    </tr>\n",
       "    <tr>\n",
       "      <th>...</th>\n",
       "      <td>...</td>\n",
       "      <td>...</td>\n",
       "      <td>...</td>\n",
       "      <td>...</td>\n",
       "      <td>...</td>\n",
       "      <td>...</td>\n",
       "      <td>...</td>\n",
       "      <td>...</td>\n",
       "      <td>...</td>\n",
       "      <td>...</td>\n",
       "    </tr>\n",
       "    <tr>\n",
       "      <th>12/31  10:00:00</th>\n",
       "      <td>15.60000</td>\n",
       "      <td>16.147595</td>\n",
       "      <td>14.641578</td>\n",
       "      <td>10.887634</td>\n",
       "      <td>16.438215</td>\n",
       "      <td>16.858946</td>\n",
       "      <td>14.630682</td>\n",
       "      <td>10.296089</td>\n",
       "      <td>16.851403</td>\n",
       "      <td>16.602854</td>\n",
       "    </tr>\n",
       "    <tr>\n",
       "      <th>12/31  21:00:00</th>\n",
       "      <td>15.60297</td>\n",
       "      <td>16.276156</td>\n",
       "      <td>15.415418</td>\n",
       "      <td>11.154105</td>\n",
       "      <td>16.663603</td>\n",
       "      <td>16.876878</td>\n",
       "      <td>15.292829</td>\n",
       "      <td>11.117149</td>\n",
       "      <td>16.881257</td>\n",
       "      <td>16.583474</td>\n",
       "    </tr>\n",
       "    <tr>\n",
       "      <th>12/31  22:00:00</th>\n",
       "      <td>15.60000</td>\n",
       "      <td>16.157759</td>\n",
       "      <td>15.190399</td>\n",
       "      <td>11.075251</td>\n",
       "      <td>16.529022</td>\n",
       "      <td>16.764695</td>\n",
       "      <td>15.103665</td>\n",
       "      <td>11.038029</td>\n",
       "      <td>16.783813</td>\n",
       "      <td>16.482705</td>\n",
       "    </tr>\n",
       "    <tr>\n",
       "      <th>12/31  23:00:00</th>\n",
       "      <td>15.60000</td>\n",
       "      <td>16.070878</td>\n",
       "      <td>15.046200</td>\n",
       "      <td>10.965642</td>\n",
       "      <td>16.427570</td>\n",
       "      <td>16.680503</td>\n",
       "      <td>14.979154</td>\n",
       "      <td>10.928333</td>\n",
       "      <td>16.699944</td>\n",
       "      <td>16.399742</td>\n",
       "    </tr>\n",
       "    <tr>\n",
       "      <th>12/31  24:00:00</th>\n",
       "      <td>15.60000</td>\n",
       "      <td>15.996085</td>\n",
       "      <td>14.937263</td>\n",
       "      <td>10.853187</td>\n",
       "      <td>16.339300</td>\n",
       "      <td>16.607239</td>\n",
       "      <td>14.881306</td>\n",
       "      <td>10.816050</td>\n",
       "      <td>16.622988</td>\n",
       "      <td>16.324726</td>\n",
       "    </tr>\n",
       "  </tbody>\n",
       "</table>\n",
       "<p>4572 rows × 10 columns</p>\n",
       "</div>"
      ],
      "text/plain": [
       "                       tem         n1          s         sw          e  \\\n",
       "Date                                                                     \n",
       " 01/01  01:00:00  15.60000  14.969495  14.516262  10.667356  15.032881   \n",
       " 01/01  02:00:00  15.60000  14.845857  14.264236   9.572860  14.927319   \n",
       " 01/01  03:00:00  15.60000  14.780562  14.032646   9.437750  14.868444   \n",
       " 01/01  04:00:00  15.60000  14.736425  13.869836   9.268384  14.828190   \n",
       " 01/01  05:00:00  15.60000  14.701547  13.752946   9.132531  14.795978   \n",
       "...                    ...        ...        ...        ...        ...   \n",
       " 12/31  10:00:00  15.60000  16.147595  14.641578  10.887634  16.438215   \n",
       " 12/31  21:00:00  15.60297  16.276156  15.415418  11.154105  16.663603   \n",
       " 12/31  22:00:00  15.60000  16.157759  15.190399  11.075251  16.529022   \n",
       " 12/31  23:00:00  15.60000  16.070878  15.046200  10.965642  16.427570   \n",
       " 12/31  24:00:00  15.60000  15.996085  14.937263  10.853187  16.339300   \n",
       "\n",
       "                         n2          w         ww      floor    ceiling  \n",
       "Date                                                                     \n",
       " 01/01  01:00:00  15.101662  14.494765  10.692775  15.072239  14.932036  \n",
       " 01/01  02:00:00  15.003793  14.238915   9.637330  14.994772  14.838414  \n",
       " 01/01  03:00:00  14.953579  14.010805   9.503474  14.961904  14.798600  \n",
       " 01/01  04:00:00  14.917997  13.848420   9.336981  14.932588  14.763572  \n",
       " 01/01  05:00:00  14.889475  13.729092   9.209504  14.906629  14.732734  \n",
       "...                     ...        ...        ...        ...        ...  \n",
       " 12/31  10:00:00  16.858946  14.630682  10.296089  16.851403  16.602854  \n",
       " 12/31  21:00:00  16.876878  15.292829  11.117149  16.881257  16.583474  \n",
       " 12/31  22:00:00  16.764695  15.103665  11.038029  16.783813  16.482705  \n",
       " 12/31  23:00:00  16.680503  14.979154  10.928333  16.699944  16.399742  \n",
       " 12/31  24:00:00  16.607239  14.881306  10.816050  16.622988  16.324726  \n",
       "\n",
       "[4572 rows x 10 columns]"
      ]
     },
     "execution_count": 83,
     "metadata": {},
     "output_type": "execute_result"
    }
   ],
   "source": [
    "df_walls"
   ]
  },
  {
   "cell_type": "code",
   "execution_count": 84,
   "metadata": {},
   "outputs": [
    {
     "data": {
      "text/plain": [
       "Index(['mass', 'tem', 'out', 'oc', 'n1', 's', 'sw', 'e', 'n2', 'w', 'ww',\n",
       "       'floor', 'ceiling'],\n",
       "      dtype='object')"
      ]
     },
     "execution_count": 84,
     "metadata": {},
     "output_type": "execute_result"
    }
   ],
   "source": [
    "df.columns"
   ]
  },
  {
   "cell_type": "code",
   "execution_count": 105,
   "metadata": {},
   "outputs": [],
   "source": [
    "table_cols=[ 'tem','mass','n1', 's', 'sw', 'e', 'n2', 'w', 'ww']"
   ]
  },
  {
   "cell_type": "code",
   "execution_count": 106,
   "metadata": {},
   "outputs": [],
   "source": [
    "res_array=pd.DataFrame(res[:3],columns=table_cols)"
   ]
  },
  {
   "cell_type": "code",
   "execution_count": 107,
   "metadata": {},
   "outputs": [],
   "source": [
    "res_array.to_csv('temperature.csv',index=False)"
   ]
  },
  {
   "cell_type": "markdown",
   "metadata": {},
   "source": [
    "### 4. Seasonality"
   ]
  },
  {
   "cell_type": "code",
   "execution_count": 93,
   "metadata": {},
   "outputs": [
    {
     "name": "stdout",
     "output_type": "stream",
     "text": [
      "<class 'pandas.core.frame.DataFrame'>\n",
      "Index: 8760 entries,  01/01  01:00:00 to  12/31  24:00:00\n",
      "Data columns (total 13 columns):\n",
      " #   Column   Non-Null Count  Dtype  \n",
      "---  ------   --------------  -----  \n",
      " 0   mass     8760 non-null   float64\n",
      " 1   tem      8760 non-null   float64\n",
      " 2   out      8760 non-null   float64\n",
      " 3   oc       8760 non-null   float64\n",
      " 4   n1       8760 non-null   float64\n",
      " 5   s        8760 non-null   float64\n",
      " 6   sw       8760 non-null   float64\n",
      " 7   e        8760 non-null   float64\n",
      " 8   n2       8760 non-null   float64\n",
      " 9   w        8760 non-null   float64\n",
      " 10  ww       8760 non-null   float64\n",
      " 11  floor    8760 non-null   float64\n",
      " 12  ceiling  8760 non-null   float64\n",
      "dtypes: float64(13)\n",
      "memory usage: 958.1+ KB\n"
     ]
    }
   ],
   "source": [
    "df.info()"
   ]
  },
  {
   "cell_type": "code",
   "execution_count": 40,
   "metadata": {},
   "outputs": [],
   "source": [
    "x=np.ones((3,1))"
   ]
  },
  {
   "cell_type": "code",
   "execution_count": 41,
   "metadata": {},
   "outputs": [
    {
     "data": {
      "text/plain": [
       "array([[1.],\n",
       "       [1.],\n",
       "       [1.]])"
      ]
     },
     "execution_count": 41,
     "metadata": {},
     "output_type": "execute_result"
    }
   ],
   "source": [
    "x"
   ]
  },
  {
   "cell_type": "code",
   "execution_count": 44,
   "metadata": {},
   "outputs": [],
   "source": [
    "y=np.random.randn(3,4)"
   ]
  },
  {
   "cell_type": "code",
   "execution_count": 45,
   "metadata": {},
   "outputs": [
    {
     "data": {
      "text/plain": [
       "array([[ 0.38572671,  0.21459598, -0.52690709,  0.97118098],\n",
       "       [ 0.46340519, -1.1192759 , -0.05143312, -1.50103188],\n",
       "       [-1.10826421,  0.22964593,  0.03112651, -0.21655543]])"
      ]
     },
     "execution_count": 45,
     "metadata": {},
     "output_type": "execute_result"
    }
   ],
   "source": [
    "y"
   ]
  },
  {
   "cell_type": "code",
   "execution_count": 46,
   "metadata": {},
   "outputs": [
    {
     "data": {
      "text/plain": [
       "array([[-0.61427329, -0.78540402, -1.52690709, -0.02881902],\n",
       "       [-0.53659481, -2.1192759 , -1.05143312, -2.50103188],\n",
       "       [-2.10826421, -0.77035407, -0.96887349, -1.21655543]])"
      ]
     },
     "execution_count": 46,
     "metadata": {},
     "output_type": "execute_result"
    }
   ],
   "source": [
    "y-x"
   ]
  },
  {
   "cell_type": "code",
   "execution_count": 58,
   "metadata": {},
   "outputs": [
    {
     "data": {
      "text/plain": [
       "array([[9, 8, 8, 8],\n",
       "       [8, 7, 9, 7],\n",
       "       [4, 6, 5, 2]])"
      ]
     },
     "execution_count": 58,
     "metadata": {},
     "output_type": "execute_result"
    }
   ],
   "source": [
    "np.random.randint(2,10,(3,4))"
   ]
  },
  {
   "cell_type": "code",
   "execution_count": 57,
   "metadata": {},
   "outputs": [
    {
     "data": {
      "text/plain": [
       "array([6, 3, 5])"
      ]
     },
     "execution_count": 57,
     "metadata": {},
     "output_type": "execute_result"
    }
   ],
   "source": [
    "np.random.randint(2,10,3)"
   ]
  },
  {
   "cell_type": "code",
   "execution_count": 56,
   "metadata": {},
   "outputs": [
    {
     "data": {
      "text/plain": [
       "array([2, 3])"
      ]
     },
     "execution_count": 56,
     "metadata": {},
     "output_type": "execute_result"
    }
   ],
   "source": [
    "np.random.randint(2,(3,4))"
   ]
  },
  {
   "cell_type": "code",
   "execution_count": null,
   "metadata": {},
   "outputs": [],
   "source": []
  }
 ],
 "metadata": {
  "kernelspec": {
   "display_name": "Python 3",
   "language": "python",
   "name": "python3"
  },
  "language_info": {
   "codemirror_mode": {
    "name": "ipython",
    "version": 3
   },
   "file_extension": ".py",
   "mimetype": "text/x-python",
   "name": "python",
   "nbconvert_exporter": "python",
   "pygments_lexer": "ipython3",
   "version": "3.8.3"
  }
 },
 "nbformat": 4,
 "nbformat_minor": 4
}
